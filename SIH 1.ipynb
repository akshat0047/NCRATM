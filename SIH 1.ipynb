{
 "cells": [
  {
   "cell_type": "code",
   "execution_count": null,
   "metadata": {},
   "outputs": [],
   "source": []
  },
  {
   "cell_type": "code",
   "execution_count": 4,
   "metadata": {},
   "outputs": [],
   "source": [
    "import cv2\n",
    "import numpy as np\n",
    "import os\n",
    "import matplotlib.pyplot as plt\n",
    "import time"
   ]
  },
  {
   "cell_type": "code",
   "execution_count": 2,
   "metadata": {},
   "outputs": [],
   "source": [
    "if not os.path.exists(\"imgs\"):\n",
    "    os.makedirs(\"imgs\")\n",
    "    os.makedirs(\"imgs/test\")\n",
    "    os.makedirs(\"imgs/train\")\n",
    "    os.makedirs(\"imgs/train/0\")\n",
    "    os.makedirs(\"imgs/train/1\")\n",
    "    os.makedirs(\"imgs/train/2\")\n",
    "    os.makedirs(\"imgs/train/3\")\n",
    "    os.makedirs(\"imgs/train/4\")\n",
    "    os.makedirs(\"imgs/train/5\")\n",
    "    os.makedirs(\"imgs/train/6\")\n",
    "    os.makedirs(\"imgs/train/7\")\n",
    "    os.makedirs(\"imgs/train/8\")\n",
    "    os.makedirs(\"imgs/train/9\")\n",
    "    \n",
    "    os.makedirs(\"imgs/test/0\")\n",
    "    os.makedirs(\"imgs/test/1\")\n",
    "    os.makedirs(\"imgs/test/2\")\n",
    "    os.makedirs(\"imgs/test/3\")\n",
    "    os.makedirs(\"imgs/test/4\")\n",
    "    os.makedirs(\"imgs/test/5\")\n",
    "    os.makedirs(\"imgs/test/6\")\n",
    "    os.makedirs(\"imgs/test/7\")\n",
    "    os.makedirs(\"imgs/test/8\")\n",
    "    os.makedirs(\"imgs/test/9\")"
   ]
  },
  {
   "cell_type": "code",
   "execution_count": 5,
   "metadata": {},
   "outputs": [],
   "source": [
    "mode='train'\n",
    "directory='imgs/'+mode+'/'\n",
    "\n",
    "cap=cv2.VideoCapture(0)\n",
    "\n",
    "while True:\n",
    "    _,frame=cap.read()\n",
    "    frame=cv2.flip(frame,1)#flip the screen\n",
    "    #frame=cv2.cvtColor(frame,cv2.COLOR_BGR2GRAY) #convert BGR to gray screen\n",
    "    \n",
    "    count = {'Zero': len(os.listdir(directory+\"/0\")),\n",
    "             'One': len(os.listdir(directory+\"/1\")),\n",
    "             'Two': len(os.listdir(directory+\"/2\")),\n",
    "             'Three': len(os.listdir(directory+\"/3\")),\n",
    "             'Four': len(os.listdir(directory+\"/4\")),\n",
    "             'Five': len(os.listdir(directory+\"/5\")),\n",
    "             'Six': len(os.listdir(directory+\"/6\")),\n",
    "             'Seven': len(os.listdir(directory+\"/7\")),\n",
    "             'Eight': len(os.listdir(directory+\"/8\")),\n",
    "             'Nine': len(os.listdir(directory+\"/9\"))}\n",
    "    \n",
    "    cv2.putText(frame, \"MODE : \"+mode, (10, 50), cv2.FONT_HERSHEY_PLAIN, 1, (0,255,255), 1)\n",
    "    cv2.putText(frame, \"IMAGE COUNT\", (10, 100), cv2.FONT_HERSHEY_PLAIN, 1, (0,255,255), 1)\n",
    "    cv2.putText(frame, \"ZERO : \"+str(count['Zero']), (10, 120), cv2.FONT_HERSHEY_PLAIN, 1, (0,255,255), 1)\n",
    "    cv2.putText(frame, \"ONE : \"+str(count['One']), (10, 140), cv2.FONT_HERSHEY_PLAIN, 1, (0,255,255), 1)\n",
    "    cv2.putText(frame, \"TWO : \"+str(count['Two']), (10, 160), cv2.FONT_HERSHEY_PLAIN, 1, (0,255,255), 1)\n",
    "    cv2.putText(frame, \"THREE : \"+str(count['Three']), (10, 180), cv2.FONT_HERSHEY_PLAIN, 1, (0,255,255), 1)\n",
    "    cv2.putText(frame, \"FOUR : \"+str(count['Four']), (10, 200), cv2.FONT_HERSHEY_PLAIN, 1, (0,255,255), 1)\n",
    "    cv2.putText(frame, \"FIVE : \"+str(count['Five']), (10, 220), cv2.FONT_HERSHEY_PLAIN, 1, (0,255,255), 1)\n",
    "    cv2.putText(frame, \"SIX : \"+str(count['Six']), (10, 240), cv2.FONT_HERSHEY_PLAIN, 1, (0,255,255), 1)\n",
    "    cv2.putText(frame, \"SEVEN : \"+str(count['Seven']), (10, 260), cv2.FONT_HERSHEY_PLAIN, 1, (0,255,255), 1)\n",
    "    cv2.putText(frame, \"EIGHT: \"+str(count['Eight']), (10, 280), cv2.FONT_HERSHEY_PLAIN, 1, (0,255,255), 1)\n",
    "    cv2.putText(frame, \"NINE : \"+str(count['Nine']), (10, 300), cv2.FONT_HERSHEY_PLAIN, 1, (0,255,255), 1)\n",
    "    \n",
    "    x1,y1,x2,y2=200,50,600,400\n",
    "    cv2.rectangle(frame,(x1,y1),(x2,y2),(255,0,0),2) #draw rectangle on the screen\n",
    "    cv2.putText(frame,\"Show Your Finger Here: /\\ \",(320,450),cv2.FONT_HERSHEY_PLAIN,1,(0,255,255),2)\n",
    "    cv2.imshow(\"Frame\",frame) #show the image\n",
    "    \n",
    "    roi=frame[y1:y2,x1:x2] #Region of Interest \n",
    "    roi=cv2.resize(roi,(128,128))\n",
    "    roi=cv2.cvtColor(roi,cv2.COLOR_BGR2GRAY)\n",
    "    cv2.imshow(\"Region of Interest: \",roi)\n",
    "    _,roi_bin=cv2.threshold(roi,120,255,cv2.THRESH_BINARY)#convert roi in to binary image  \n",
    "    cv2.imwrite(directory+'0/'+str(count['Zero'])+'.jpg',roi_bin)\n",
    "    time.sleep(3)\n",
    "    cv2.imshow(\"Region of Interest (Binary): \",roi_bin)\n",
    "    intp=cv2.waitKey(10)\n",
    "    if cv2.waitKey(25) & 0xFF == ord('q'):# to quit all window press q\n",
    "        break\n",
    "    \n",
    "cap.release()\n",
    "cv2.destroyAllWindows()"
   ]
  },
  {
   "cell_type": "markdown",
   "metadata": {},
   "source": [
    "<h1> Training </h1>"
   ]
  },
  {
   "cell_type": "code",
   "execution_count": 16,
   "metadata": {},
   "outputs": [],
   "source": [
    "from keras.models import Sequential\n",
    "from keras.layers import Convolution2D\n",
    "from keras.layers import MaxPooling2D\n",
    "from keras.layers import Flatten\n",
    "from keras.layers import Dense"
   ]
  },
  {
   "cell_type": "code",
   "execution_count": 17,
   "metadata": {},
   "outputs": [],
   "source": [
    "classifier = Sequential()"
   ]
  },
  {
   "cell_type": "code",
   "execution_count": null,
   "metadata": {},
   "outputs": [],
   "source": []
  },
  {
   "cell_type": "markdown",
   "metadata": {},
   "source": [
    "<h1> Predict </h1>"
   ]
  },
  {
   "cell_type": "code",
   "execution_count": 10,
   "metadata": {},
   "outputs": [],
   "source": [
    "import numpy as np\n",
    "from keras.models import model_from_json\n",
    "import operator\n",
    "import sys, os"
   ]
  },
  {
   "cell_type": "code",
   "execution_count": null,
   "metadata": {},
   "outputs": [],
   "source": []
  },
  {
   "cell_type": "code",
   "execution_count": null,
   "metadata": {},
   "outputs": [],
   "source": []
  }
 ],
 "metadata": {
  "kernelspec": {
   "display_name": "Python 3",
   "language": "python",
   "name": "python3"
  },
  "language_info": {
   "codemirror_mode": {
    "name": "ipython",
    "version": 3
   },
   "file_extension": ".py",
   "mimetype": "text/x-python",
   "name": "python",
   "nbconvert_exporter": "python",
   "pygments_lexer": "ipython3",
   "version": "3.7.1"
  }
 },
 "nbformat": 4,
 "nbformat_minor": 2
}
